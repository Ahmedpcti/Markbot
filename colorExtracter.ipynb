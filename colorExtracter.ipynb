{
 "cells": [
  {
   "cell_type": "code",
   "execution_count": 34,
   "metadata": {
    "scrolled": false
   },
   "outputs": [
    {
     "name": "stdout",
     "output_type": "stream",
     "text": [
      "train/501013076d.jpg\n",
      "train/79161d21fc.jpg\n",
      "train/801800c0c9.jpg\n",
      "train/9301dee435.jpg\n",
      "train/965819422c.jpg\n",
      "train/a7cf1783f7.jpg\n",
      "train/a8fa6ff826.jpg\n",
      "train/a92ee65b6c.jpg\n",
      "train/ac98fb7d28.jpg\n",
      "train/b4f539cd85.jpg\n",
      "train/beb23d1bb3.jpg\n",
      "train/bk.jpg\n",
      "train/c486b7fc4c.jpg\n",
      "train/d30bdedc80.jpg\n",
      "train/d97dc138b5.jpg\n",
      "train/d981ddd096.jpg\n",
      "train/download.jpeg\n",
      "train/e0d9dcbf28.jpg\n",
      "train/e8da802075.jpg\n",
      "train/f112157ed2.jpg\n",
      "train/f292361cb1.jpg\n",
      "train/f87bf71515.jpg\n",
      "train/images (1).png\n",
      "train/logo3.png\n",
      "train/Pizza-hut-fast-food-logo.jpg\n",
      "[[5, 4, 2], [224, 165, 65], [164, 4, 42], [229, 41, 54], [218, 30, 4], [232, 165, 4]] [0.4625, 0.2125, 0.1, 0.1, 0.0625, 0.0625]\n"
     ]
    }
   ],
   "source": [
    "%matplotlib notebook\n",
    "import colorgram\n",
    "import numpy as np\n",
    "import matplotlib.pyplot as plt\n",
    "import glob\n",
    "import PIL\n",
    "from PIL import Image\n",
    "from skimage import io\n",
    "\n",
    "colors_all=[]\n",
    "\n",
    "def colorExtract (imagePath,colorNum):\n",
    "    \n",
    "    colorlist=[]\n",
    "    proportionList=[]\n",
    "    np.array(colorlist)\n",
    "    colors = colorgram.extract(imagePath, colorNum)\n",
    "\n",
    "    \n",
    "    # RGB, HSL, and what proportion of the image was that color.\n",
    "    for i in range(len(colors)):\n",
    "        \n",
    "        rgbVal=[]\n",
    "        hslVal=[]\n",
    "        \n",
    "        rgb = colors[i].rgb # e.g. (255, 151, 210)\n",
    "        \n",
    "        red=rgb[0]\n",
    "        red=rgb.r\n",
    "        rgbVal.append(red)\n",
    "        green=rgb[1]\n",
    "        green=rgb.g\n",
    "        rgbVal.append(green)\n",
    "        blue=rgb[2]\n",
    "        blue=rgb.b\n",
    "        rgbVal.append(blue)\n",
    "        \n",
    "        proportionList.append(colors[i].proportion) # e.g. 0.34\n",
    "        colorlist.append(rgbVal)\n",
    "        colors_all.append(colorlist)\n",
    "        \n",
    "    return colorlist,proportionList\n",
    "\n",
    "names= glob.glob(\"train/*\")\n",
    "\n",
    "for name in names:\n",
    "    red=[]\n",
    "    green=[]\n",
    "    blue=[]\n",
    "    print (name)\n",
    "    pic = PIL.Image.open(name)\n",
    "    c,l=colorExtract(pic,4)\n",
    "    \n",
    "\n",
    "       \n",
    "    \n",
    "my_img = Image.new('RGB', (25, 4))\n",
    "\n",
    "for i in range(25):\n",
    "    for j in range(4):\n",
    "        if (j<len(colors_all[i])):\n",
    "            if(colors_all[i][j][0]>240 and colors_all[i][j][1]>240 and colors_all[i][j][2]>240):\n",
    "                continue\n",
    "            else:     \n",
    "                my_img.putpixel((i,j),(colors_all[i][j][0],colors_all[i][j][1],colors_all[i][j][2]))\n",
    "        \n",
    "        else:\n",
    "            my_img.putpixel((i,j),(255,255,255))\n",
    "        \n",
    "       \n",
    "        \n",
    "my_img.save('chamatkar.png')  \n",
    "c,l=colorExtract('chamatkar.png',6)\n",
    "print (c,l)\n",
    "\n",
    "\n",
    "\n",
    "\n",
    "\n",
    "\n",
    "\n",
    "\n",
    "\n",
    "\n"
   ]
  },
  {
   "cell_type": "code",
   "execution_count": 30,
   "metadata": {},
   "outputs": [
    {
     "name": "stdout",
     "output_type": "stream",
     "text": [
      "[[6, 4, 3], [189, 5, 39], [207, 160, 97], [177, 67, 32], [26, 27, 35], [194, 38, 59], [229, 41, 54]] [0.591715976331361, 0.11834319526627218, 0.07692307692307693, 0.07100591715976332, 0.047337278106508875, 0.047337278106508875, 0.047337278106508875]\n"
     ]
    }
   ],
   "source": []
  },
  {
   "cell_type": "code",
   "execution_count": null,
   "metadata": {
    "scrolled": true
   },
   "outputs": [],
   "source": []
  },
  {
   "cell_type": "code",
   "execution_count": null,
   "metadata": {
    "scrolled": true
   },
   "outputs": [],
   "source": []
  }
 ],
 "metadata": {
  "kernelspec": {
   "display_name": "Python 3",
   "language": "python",
   "name": "python3"
  },
  "language_info": {
   "codemirror_mode": {
    "name": "ipython",
    "version": 3
   },
   "file_extension": ".py",
   "mimetype": "text/x-python",
   "name": "python",
   "nbconvert_exporter": "python",
   "pygments_lexer": "ipython3",
   "version": "3.7.3"
  }
 },
 "nbformat": 4,
 "nbformat_minor": 2
}
